{
 "cells": [
  {
   "cell_type": "code",
   "execution_count": 4,
   "metadata": {},
   "outputs": [],
   "source": [
    "import pymongo as pg\n",
    "\n",
    "client=pg.MongoClient(\"mongodb://localhost:27017\")\n",
    "db=client[\"Scraping\"]\n",
    "my_collection=db[\"movies\"]\n"
   ]
  },
  {
   "cell_type": "code",
   "execution_count": 5,
   "metadata": {},
   "outputs": [],
   "source": [
    "cursor = db.my_collection.find({\"title\":\"Emad\"})\n",
    "for i in cursor:\n",
    "    print(i)"
   ]
  },
  {
   "cell_type": "markdown",
   "metadata": {},
   "source": [
    "1) Quel est le film le plus long ?"
   ]
  },
  {
   "cell_type": "code",
   "execution_count": 6,
   "metadata": {},
   "outputs": [
    {
     "name": "stdout",
     "output_type": "stream",
     "text": [
      "le film le plus long est Gone with the Wind avec une durée de 238 minutes.\n"
     ]
    }
   ],
   "source": [
    "film_plus_longue=my_collection.find().sort(\"runtime\",pg.DESCENDING).limit(1)[0]\n",
    "film_plus_longue\n",
    "print(\"le film le plus long est {} avec une durée de {} minutes.\" .format(film_plus_longue[\"title\"],film_plus_longue[\"runtime\"]))"
   ]
  },
  {
   "cell_type": "markdown",
   "metadata": {},
   "source": [
    "2) Quels sont les 5 films les mieux notés ?"
   ]
  },
  {
   "cell_type": "code",
   "execution_count": 7,
   "metadata": {},
   "outputs": [
    {
     "data": {
      "text/html": [
       "<div>\n",
       "<style scoped>\n",
       "    .dataframe tbody tr th:only-of-type {\n",
       "        vertical-align: middle;\n",
       "    }\n",
       "\n",
       "    .dataframe tbody tr th {\n",
       "        vertical-align: top;\n",
       "    }\n",
       "\n",
       "    .dataframe thead th {\n",
       "        text-align: right;\n",
       "    }\n",
       "</style>\n",
       "<table border=\"1\" class=\"dataframe\">\n",
       "  <thead>\n",
       "    <tr style=\"text-align: right;\">\n",
       "      <th></th>\n",
       "      <th>title</th>\n",
       "      <th>score</th>\n",
       "    </tr>\n",
       "  </thead>\n",
       "  <tbody>\n",
       "    <tr>\n",
       "      <th>0</th>\n",
       "      <td>The Shawshank Redemption</td>\n",
       "      <td>9.3</td>\n",
       "    </tr>\n",
       "    <tr>\n",
       "      <th>1</th>\n",
       "      <td>The Godfather</td>\n",
       "      <td>9.2</td>\n",
       "    </tr>\n",
       "    <tr>\n",
       "      <th>2</th>\n",
       "      <td>12 Angry Men</td>\n",
       "      <td>9.0</td>\n",
       "    </tr>\n",
       "    <tr>\n",
       "      <th>3</th>\n",
       "      <td>The Lord of the Rings: The Return of the King</td>\n",
       "      <td>9.0</td>\n",
       "    </tr>\n",
       "    <tr>\n",
       "      <th>4</th>\n",
       "      <td>Schindler's List</td>\n",
       "      <td>9.0</td>\n",
       "    </tr>\n",
       "  </tbody>\n",
       "</table>\n",
       "</div>"
      ],
      "text/plain": [
       "                                           title  score\n",
       "0                       The Shawshank Redemption    9.3\n",
       "1                                  The Godfather    9.2\n",
       "2                                   12 Angry Men    9.0\n",
       "3  The Lord of the Rings: The Return of the King    9.0\n",
       "4                               Schindler's List    9.0"
      ]
     },
     "execution_count": 7,
     "metadata": {},
     "output_type": "execute_result"
    }
   ],
   "source": [
    "film_mieux_note=my_collection.find().sort(\"rating_score\",pg.DESCENDING).limit(5)\n",
    "df_film_mieux_note=pd.DataFrame()\n",
    "for film in film_mieux_note:\n",
    "    new_rows=pd.DataFrame({'title':[film['title']],'score':[film['rating_score']]})\n",
    "    df_film_mieux_note=pd.concat([df_film_mieux_note,new_rows],ignore_index=True)\n",
    "df_film_mieux_note"
   ]
  },
  {
   "cell_type": "markdown",
   "metadata": {},
   "source": [
    "3) Dans combien de films a joué Morgan Freeman ? Tom Cruise ?"
   ]
  },
  {
   "cell_type": "code",
   "execution_count": 8,
   "metadata": {},
   "outputs": [
    {
     "name": "stdout",
     "output_type": "stream",
     "text": [
      "le nomrbre de filme de Morgan Freeman est 7  \n"
     ]
    }
   ],
   "source": [
    "filter={'casting_principal':'Morgan Freeman'}\n",
    "nombre_film_Morgan_Freeman=my_collection.count_documents(filter)\n",
    "print( \"le nomrbre de filme de Morgan Freeman est {}  \" .format(nombre_film_Morgan_Freeman))\n"
   ]
  },
  {
   "cell_type": "code",
   "execution_count": 9,
   "metadata": {},
   "outputs": [
    {
     "name": "stdout",
     "output_type": "stream",
     "text": [
      "le nomrbre de filme de Tom cruise est 1  \n"
     ]
    }
   ],
   "source": [
    "\n",
    "filter={'casting_principal':'Tom Cruise'}\n",
    "nombre_film_Tom_cruise=my_collection.count_documents(filter)\n",
    "print( \"le nomrbre de filme de Tom cruise est {}  \" .format(nombre_film_Tom_cruise))\n"
   ]
  },
  {
   "cell_type": "markdown",
   "metadata": {},
   "source": [
    "4) Quels sont les 3 meilleurs films d’horreur ? Dramatique ? Comique ?\n"
   ]
  },
  {
   "cell_type": "code",
   "execution_count": 10,
   "metadata": {},
   "outputs": [
    {
     "name": "stdout",
     "output_type": "stream",
     "text": [
      "le film de horreur Psycho a un score 8.5\n",
      "le film de horreur Alien a un score 8.5\n",
      "le film de horreur The Shining a un score 8.4\n"
     ]
    }
   ],
   "source": [
    "trois_meilleur_film_horreur=my_collection.find({'genre':'Horror'}).sort('rating_score',pg.DESCENDING).limit(3)\n",
    "for film in trois_meilleur_film_horreur :\n",
    "    print('le film de horreur {} a un score {}' .format(film['title'],film['rating_score']) )"
   ]
  },
  {
   "cell_type": "code",
   "execution_count": 11,
   "metadata": {},
   "outputs": [
    {
     "name": "stdout",
     "output_type": "stream",
     "text": [
      "le film dramatique The Shawshank Redemption a un score 9.3\n",
      "le film dramatique The Godfather a un score 9.2\n",
      "le film dramatique Schindler's List a un score 9.0\n"
     ]
    }
   ],
   "source": [
    "trois_meilleur_film_Dramatique=my_collection.find({'genre':'Drama'}).sort('rating_score',pg.DESCENDING).limit(3)\n",
    "for film in trois_meilleur_film_Dramatique :\n",
    "    print('le film dramatique {} a un score {}' .format(film['title'],film['rating_score']) )"
   ]
  },
  {
   "cell_type": "code",
   "execution_count": 12,
   "metadata": {},
   "outputs": [
    {
     "name": "stdout",
     "output_type": "stream",
     "text": [
      "le film de comique Life Is Beautiful a un score 8.6\n",
      "le film de comique The Intouchables a un score 8.5\n",
      "le film de comique Modern Times a un score 8.5\n"
     ]
    }
   ],
   "source": [
    "trois_meilleur_film_comique=my_collection.find({'genre':'Comedy'}).sort('rating_score',pg.DESCENDING).limit(3)\n",
    "for film in trois_meilleur_film_comique :\n",
    "    print('le film de comique {} a un score {}' .format(film['title'],film['rating_score']) )"
   ]
  },
  {
   "cell_type": "markdown",
   "metadata": {},
   "source": [
    "5) Parmi les 100 films les mieux notés, quel pourcentage sont américains ? Français ?"
   ]
  },
  {
   "cell_type": "code",
   "execution_count": null,
   "metadata": {},
   "outputs": [],
   "source": []
  },
  {
   "cell_type": "markdown",
   "metadata": {},
   "source": [
    "6) Quel est la durée moyenne d’un film en fonction du genre ?\n"
   ]
  },
  {
   "cell_type": "code",
   "execution_count": 13,
   "metadata": {},
   "outputs": [
    {
     "data": {
      "text/html": [
       "<div>\n",
       "<style scoped>\n",
       "    .dataframe tbody tr th:only-of-type {\n",
       "        vertical-align: middle;\n",
       "    }\n",
       "\n",
       "    .dataframe tbody tr th {\n",
       "        vertical-align: top;\n",
       "    }\n",
       "\n",
       "    .dataframe thead th {\n",
       "        text-align: right;\n",
       "    }\n",
       "</style>\n",
       "<table border=\"1\" class=\"dataframe\">\n",
       "  <thead>\n",
       "    <tr style=\"text-align: right;\">\n",
       "      <th></th>\n",
       "      <th>genre</th>\n",
       "      <th>avgDuration</th>\n",
       "    </tr>\n",
       "  </thead>\n",
       "  <tbody>\n",
       "    <tr>\n",
       "      <th>0</th>\n",
       "      <td>[Mystery, Thriller]</td>\n",
       "      <td>121.00</td>\n",
       "    </tr>\n",
       "    <tr>\n",
       "      <th>1</th>\n",
       "      <td>[Comedy]</td>\n",
       "      <td>94.00</td>\n",
       "    </tr>\n",
       "    <tr>\n",
       "      <th>2</th>\n",
       "      <td>[Crime, Drama, Thriller]</td>\n",
       "      <td>124.20</td>\n",
       "    </tr>\n",
       "    <tr>\n",
       "      <th>3</th>\n",
       "      <td>[Comedy, Drama, Romance]</td>\n",
       "      <td>103.75</td>\n",
       "    </tr>\n",
       "    <tr>\n",
       "      <th>4</th>\n",
       "      <td>[Action, Adventure, Mystery]</td>\n",
       "      <td>136.00</td>\n",
       "    </tr>\n",
       "    <tr>\n",
       "      <th>...</th>\n",
       "      <td>...</td>\n",
       "      <td>...</td>\n",
       "    </tr>\n",
       "    <tr>\n",
       "      <th>99</th>\n",
       "      <td>[Comedy, Romance]</td>\n",
       "      <td>113.50</td>\n",
       "    </tr>\n",
       "    <tr>\n",
       "      <th>100</th>\n",
       "      <td>[Drama, Western]</td>\n",
       "      <td>147.50</td>\n",
       "    </tr>\n",
       "    <tr>\n",
       "      <th>101</th>\n",
       "      <td>[Drama, Sport]</td>\n",
       "      <td>126.00</td>\n",
       "    </tr>\n",
       "    <tr>\n",
       "      <th>102</th>\n",
       "      <td>[Adventure, Comedy, Drama]</td>\n",
       "      <td>95.00</td>\n",
       "    </tr>\n",
       "    <tr>\n",
       "      <th>103</th>\n",
       "      <td>[Biography, Crime, Drama]</td>\n",
       "      <td>137.00</td>\n",
       "    </tr>\n",
       "  </tbody>\n",
       "</table>\n",
       "<p>104 rows × 2 columns</p>\n",
       "</div>"
      ],
      "text/plain": [
       "                            genre  avgDuration\n",
       "0             [Mystery, Thriller]       121.00\n",
       "1                        [Comedy]        94.00\n",
       "2        [Crime, Drama, Thriller]       124.20\n",
       "3        [Comedy, Drama, Romance]       103.75\n",
       "4    [Action, Adventure, Mystery]       136.00\n",
       "..                            ...          ...\n",
       "99              [Comedy, Romance]       113.50\n",
       "100              [Drama, Western]       147.50\n",
       "101                [Drama, Sport]       126.00\n",
       "102    [Adventure, Comedy, Drama]        95.00\n",
       "103     [Biography, Crime, Drama]       137.00\n",
       "\n",
       "[104 rows x 2 columns]"
      ]
     },
     "execution_count": 13,
     "metadata": {},
     "output_type": "execute_result"
    }
   ],
   "source": [
    "pipline=[{ \"$group\":{\"_id\": \"$genre\",\"avgDuration\":{\"$avg\":\"$runtime\"}}}]\n",
    "\n",
    "result=my_collection.aggregate(pipline)\n",
    "result\n",
    "# for group in result:\n",
    "#     print(group)\n",
    "df_avrage_dure=pd.DataFrame()\n",
    "for film in result:\n",
    "    new_rows=pd.DataFrame({'genre':[film['_id']],'avgDuration':[round(film['avgDuration'],2)]})\n",
    "    df_avrage_dure=pd.concat([df_avrage_dure,new_rows],ignore_index=True)\n",
    "df_avrage_dure"
   ]
  },
  {
   "cell_type": "code",
   "execution_count": 14,
   "metadata": {},
   "outputs": [
    {
     "name": "stdout",
     "output_type": "stream",
     "text": [
      "{'_id': ObjectId('639c3124eee4a28db9bdfa14'), 'rating_score': 9.3, 'title': 'The Shawshank Redemption', 'titre_original': None, 'years': '1994', 'public': 'R', 'summary': 'Two imprisoned men bond over a number of years, finding solace and eventual redemption through acts of common decency.', 'genre': ['Drama'], 'runtime': 142, 'casting_principal': ['Tim Robbins', 'Morgan Freeman', 'Bob Gunton', 'William Sadler', 'Clancy Brown', 'Gil Bellows', 'Mark Rolston', 'James Whitmore', 'Jeffrey DeMunn', 'Larry Brandenburg', 'Neil Giuntoli', 'Brian Libby', 'David Proval', 'Joseph Ragno', 'Jude Ciccolella', 'Paul McCrane', 'Renee Blaine', 'Scott Mann']}\n",
      "{'_id': ObjectId('639c312eeee4a28db9bdfa1a'), 'rating_score': 8.6, 'title': 'Se7en', 'titre_original': None, 'years': '1995', 'public': 'R', 'summary': 'Two detectives, a rookie and a veteran, hunt a serial killer who uses the seven deadly sins as his motives.', 'genre': ['Crime', 'Drama', 'Mystery'], 'runtime': 127, 'casting_principal': ['Morgan Freeman', 'Brad Pitt', 'Kevin Spacey', 'Andrew Kevin Walker', 'Daniel Zacapa', 'Gwyneth Paltrow', 'John Cassini', 'Bob Mack', 'Peter Crombie', 'Reg E. Cathey', 'R. Lee Ermey', 'George Christy', 'Endre Hules', 'Hawthorne James', 'William Davidson', 'Bob Collins', 'Jimmy Dale Hartsell', 'Richard Roundtree']}\n",
      "{'_id': ObjectId('639c319deee4a28db9bdfa6d'), 'rating_score': 8.1, 'title': 'Million Dollar Baby', 'titre_original': None, 'years': '2004', 'public': 'PG-13', 'summary': 'A determined woman works with a hardened boxing trainer to become a professional.', 'genre': ['Drama', 'Sport'], 'runtime': 132, 'casting_principal': ['Hilary Swank', 'Clint Eastwood', 'Morgan Freeman', 'Jay Baruchel', 'Mike Colter', 'Lucia Rijker', \"Brían F. O'Byrne\", 'Anthony Mackie', 'Margo Martindale', 'Riki Lindhome', 'Michael Peña', 'Benito Martinez', 'Bruce MacVittie', 'David Powledge', \"Joe D'Angerio\", 'Marcus Chait', 'Tom McCleister', 'Erica Grant']}\n",
      "{'_id': ObjectId('639c31d5eee4a28db9bdfa92'), 'rating_score': 8.2, 'title': 'Unforgiven', 'titre_original': None, 'years': '1992', 'public': 'R', 'summary': 'Retired Old West gunslinger William Munny reluctantly takes on one last job, with the help of his old partner Ned Logan and a young man, The \"Schofield Kid.\"', 'genre': ['Drama', 'Western'], 'runtime': 130, 'casting_principal': ['Clint Eastwood', 'Gene Hackman', 'Morgan Freeman', 'Richard Harris', 'Jaimz Woolvett', 'Saul Rubinek', 'Frances Fisher', 'Anna Thomson', 'David Mucci', 'Rob Campbell', 'Anthony James', 'Tara Frederick', 'Beverley Elliott', 'Liisa Repo-Martell', 'Josie Smith', 'Shane Meier', 'Aline Levasseur', 'Cherrilene Cardinal']}\n",
      "{'_id': ObjectId('639c31e4eee4a28db9bdfa9d'), 'rating_score': 8.2, 'title': 'Batman Begins', 'titre_original': None, 'years': '2005', 'public': 'PG-13', 'summary': 'After training with his mentor, Batman begins his fight to free crime-ridden Gotham City from corruption.', 'genre': ['Action', 'Crime', 'Drama'], 'runtime': 140, 'casting_principal': ['Christian Bale', 'Michael Caine', 'Ken Watanabe', 'Liam Neeson', 'Katie Holmes', 'Gary Oldman', 'Cillian Murphy', 'Tom Wilkinson', 'Rutger Hauer', 'Mark Boone Junior', 'Linus Roache', 'Morgan Freeman', 'Larry Holden', 'Gerard Murphy', 'Colin McFarlane', 'Sara Stewart', 'Gus Lewis', 'Richard Brake']}\n",
      "{'_id': ObjectId('639c322deee4a28db9bdfad4'), 'rating_score': 8.4, 'title': 'The Dark Knight Rises', 'titre_original': None, 'years': '2012', 'public': 'PG-13', 'summary': \"Eight years after the Joker's reign of anarchy, Batman, with the help of the enigmatic Selina Kyle, is forced from his exile to save Gotham City from the brutal guerrilla terrorist Bane.\", 'genre': ['Action', 'Drama'], 'runtime': 164, 'casting_principal': ['Christian Bale', 'Tom Hardy', 'Anne Hathaway', 'Gary Oldman', 'Joseph Gordon-Levitt', 'Marion Cotillard', 'Morgan Freeman', 'Michael Caine', 'Matthew Modine', 'Alon Aboutboul', 'Ben Mendelsohn', 'Burn Gorman', 'Daniel Sunjata', 'Aidan Gillen', 'Sam Kennard', 'Aliash Tepina', 'Nestor Carbonell', 'Brett Cullen']}\n",
      "{'_id': ObjectId('639c3273eee4a28db9bdfb0c'), 'rating_score': 9.0, 'title': 'The Dark Knight', 'titre_original': None, 'years': '2008', 'public': 'PG-13', 'summary': 'When the menace known as the Joker wreaks havoc and chaos on the people of Gotham, Batman must accept one of the greatest psychological and physical tests of his ability to fight injustice.', 'genre': ['Action', 'Crime', 'Drama'], 'runtime': 152, 'casting_principal': ['Christian Bale', 'Heath Ledger', 'Aaron Eckhart', 'Michael Caine', 'Maggie Gyllenhaal', 'Gary Oldman', 'Morgan Freeman', 'Monique Gabriela Curnen', 'Ron Dean', 'Cillian Murphy', 'Chin Han', 'Nestor Carbonell', 'Eric Roberts', 'Ritchie Coster', 'Anthony Michael Hall', 'Keith Szarabajka', 'Colin McFarlane', 'Joshua Harto']}\n"
     ]
    }
   ],
   "source": [
    "query={}\n",
    "query[\"casting_principal\"] = {\"$elemMatch\":{\"$in\":[ \"Morgan Freeman\", \"Tim Robbins\"]}}\n",
    "result = my_collection.find(query)\n",
    "for i in result :\n",
    "    print(i)"
   ]
  }
 ],
 "metadata": {
  "kernelspec": {
   "display_name": "Python 3.10.8 ('env_Data_Analyst')",
   "language": "python",
   "name": "python3"
  },
  "language_info": {
   "codemirror_mode": {
    "name": "ipython",
    "version": 3
   },
   "file_extension": ".py",
   "mimetype": "text/x-python",
   "name": "python",
   "nbconvert_exporter": "python",
   "pygments_lexer": "ipython3",
   "version": "3.10.8"
  },
  "orig_nbformat": 4,
  "vscode": {
   "interpreter": {
    "hash": "0920b6d888fcdbeceb69ca45aa60394d1f15e2c3f89d50dfba6427d9dfa2a6c7"
   }
  }
 },
 "nbformat": 4,
 "nbformat_minor": 2
}
